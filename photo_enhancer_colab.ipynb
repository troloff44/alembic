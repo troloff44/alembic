{
  "nbformat": 4,
  "nbformat_minor": 0,
  "metadata": {
    "colab": {
      "provenance": [],
      "authorship_tag": "ABX9TyPvYtMPpuB2rFACMZZdo98n",
      "include_colab_link": true
    },
    "kernelspec": {
      "name": "python3",
      "display_name": "Python 3"
    },
    "language_info": {
      "name": "python"
    }
  },
  "cells": [
    {
      "cell_type": "markdown",
      "metadata": {
        "id": "view-in-github",
        "colab_type": "text"
      },
      "source": [
        "<a href=\"https://colab.research.google.com/github/troloff44/alembic/blob/main/photo_enhancer_colab.ipynb\" target=\"_parent\"><img src=\"https://colab.research.google.com/assets/colab-badge.svg\" alt=\"Open In Colab\"/></a>"
      ]
    },
    {
      "cell_type": "code",
      "execution_count": 1,
      "metadata": {
        "id": "FGj8Px_IQfE1"
      },
      "outputs": [],
      "source": [
        "import cv2\n",
        "from cv2 import dnn_superres\n",
        "import matplotlib.pyplot as plt\n",
        "import numpy as np"
      ]
    },
    {
      "cell_type": "code",
      "source": [
        "sr = dnn_superres.DnnSuperResImpl_create()"
      ],
      "metadata": {
        "id": "JgZux82HQtSE"
      },
      "execution_count": 18,
      "outputs": []
    },
    {
      "cell_type": "code",
      "source": [
        "# path = 'EDSR_x4.pb'\n",
        "path = 'LapSRN_x8.pb'"
      ],
      "metadata": {
        "id": "pJi-rZjYmaOd"
      },
      "execution_count": 28,
      "outputs": []
    },
    {
      "cell_type": "code",
      "source": [
        "sr.readModel(path)"
      ],
      "metadata": {
        "id": "YjnLvT8tmuTn"
      },
      "execution_count": 29,
      "outputs": []
    },
    {
      "cell_type": "code",
      "source": [
        "sr.setModel('lapsrn', 8)"
      ],
      "metadata": {
        "id": "hp1gn9XknRAY"
      },
      "execution_count": 30,
      "outputs": []
    },
    {
      "cell_type": "code",
      "source": [
        "sr.setPreferableBackend(cv2.dnn.DNN_BACKEND_CUDA)"
      ],
      "metadata": {
        "id": "bk4CG11uouiX"
      },
      "execution_count": 33,
      "outputs": []
    },
    {
      "cell_type": "code",
      "source": [
        "sr.setPreferableTarget(cv2.dnn.DNN_TARGET_CUDA)"
      ],
      "metadata": {
        "id": "aQzrMOPFppV4"
      },
      "execution_count": 34,
      "outputs": []
    },
    {
      "cell_type": "code",
      "source": [
        "image = cv2.imread('cindydad3.jpg')"
      ],
      "metadata": {
        "id": "UuWcB85eqYed"
      },
      "execution_count": 35,
      "outputs": []
    },
    {
      "cell_type": "code",
      "source": [
        "upscaled = sr.upsample(image)"
      ],
      "metadata": {
        "id": "vjdLP8SBq5mZ"
      },
      "execution_count": 36,
      "outputs": []
    },
    {
      "cell_type": "code",
      "source": [
        "cv2.imwrite(r'cindydad3_upscaled_lapsrn8.jpg', upscaled)"
      ],
      "metadata": {
        "colab": {
          "base_uri": "https://localhost:8080/"
        },
        "id": "DxWxQjfcrq02",
        "outputId": "9448a5c8-49e8-4bd0-dee3-4e7826ef9e98"
      },
      "execution_count": 37,
      "outputs": [
        {
          "output_type": "execute_result",
          "data": {
            "text/plain": [
              "True"
            ]
          },
          "metadata": {},
          "execution_count": 37
        }
      ]
    }
  ]
}